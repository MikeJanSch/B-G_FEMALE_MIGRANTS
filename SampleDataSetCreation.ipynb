{
 "cells": [
  {
   "cell_type": "code",
   "execution_count": null,
   "id": "30aa5fef",
   "metadata": {},
   "outputs": [],
   "source": [
    "import pandas as pd\n",
    "\n",
    "# Load the original dataset\n",
    "file_path = 'C:/Users/xx/Downloads/Artikelen_Sanders.csv'  # Replace this with the path to your CSV file\n",
    "data = pd.read_csv(file_path)\n",
    "\n",
    "# Sample 20 rows randomly without replacement\n",
    "sampled_data = data.sample(n=20, random_state=1)  # random_state ensures reproducibility\n",
    "\n",
    "# Save the sampled data to a new CSV file\n",
    "sampled_file_path = 'C:/Users/xx/Downloads/Artikelen_Sanders_sample.csv'  # Specify the desired path for the sample dataset\n",
    "sampled_data.to_csv(sampled_file_path, index=False)  # index=False to avoid writing row indices\n",
    "\n",
    "print(\"Sampled dataset created successfully.\")"
   ]
  },
  {
   "cell_type": "code",
   "execution_count": null,
   "id": "16d7d316",
   "metadata": {},
   "outputs": [],
   "source": [
    "# Path to the sampled dataset CSV file\n",
    "sampled_file_path = 'C:/Users/xx/Downloads/Artikelen_Sanders_sample.csv'  # Replace with the actual path to your sampled dataset\n",
    "\n",
    "# Load the sampled dataset\n",
    "sampled_data = pd.read_csv(sampled_file_path)\n",
    "\n",
    "# Display the first few rows of the sampled dataset to verify it's loaded correctly\n",
    "print(sampled_data.head())"
   ]
  },
  {
   "cell_type": "code",
   "execution_count": null,
   "id": "6506c329",
   "metadata": {},
   "outputs": [],
   "source": [
    "sampled_data"
   ]
  }
 ],
 "metadata": {
  "kernelspec": {
   "display_name": "Python 3 (ipykernel)",
   "language": "python",
   "name": "python3"
  },
  "language_info": {
   "codemirror_mode": {
    "name": "ipython",
    "version": 3
   },
   "file_extension": ".py",
   "mimetype": "text/x-python",
   "name": "python",
   "nbconvert_exporter": "python",
   "pygments_lexer": "ipython3",
   "version": "3.9.17"
  }
 },
 "nbformat": 4,
 "nbformat_minor": 5
}
