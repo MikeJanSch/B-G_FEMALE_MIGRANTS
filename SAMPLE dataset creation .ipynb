{
 "cells": [
  {
   "cell_type": "code",
   "execution_count": 1,
   "id": "b5760ec6",
   "metadata": {},
   "outputs": [
    {
     "name": "stdout",
     "output_type": "stream",
     "text": [
      "Sampled dataset created successfully.\n"
     ]
    }
   ],
   "source": [
    "import pandas as pd\n",
    "\n",
    "# Load the original dataset\n",
    "file_path = 'C:/Users/xx/Downloads/Artikelen_Sanders.csv'  # Replace this with the path to your CSV file\n",
    "data = pd.read_csv(file_path)\n",
    "\n",
    "# Sample 20 rows randomly without replacement\n",
    "sampled_data = data.sample(n=20, random_state=1)  # random_state ensures reproducibility\n",
    "\n",
    "# Save the sampled data to a new CSV file\n",
    "sampled_file_path = 'C:/Users/xx/Downloads/Artikelen_Sanders_sample.csv'  # Specify the desired path for the sample dataset\n",
    "sampled_data.to_csv(sampled_file_path, index=False)  # index=False to avoid writing row indices\n",
    "\n",
    "print(\"Sampled dataset created successfully.\")\n"
  
  ,
    "# Path to the sampled dataset CSV file\n",
    "sampled_file_path = 'C:/Users/xx/Downloads/Artikelen_Sanders_sample.csv'  # Replace with the actual path to your sampled dataset\n",
    "\n",
    "# Load the sampled dataset\n",
    "sampled_data = pd.read_csv(sampled_file_path)\n",
    "\n",
    "# Display the first few rows of the sampled dataset to verify it's loaded correctly\n",
    "print(sampled_data.head())\n"
  
