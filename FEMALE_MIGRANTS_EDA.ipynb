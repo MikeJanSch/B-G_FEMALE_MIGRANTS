{
 "cells": [
  {
   "cell_type": "code",
   "execution_count": null,
   "id": "003e6b08",
   "metadata": {},
   "outputs": [],
   "source": [
    "import pandas as pd\n",
    "import re\n",
    "import nltk\n",
    "import spacy\n",
    "import string\n",
    "from nltk.corpus import stopwords\n",
    "from nltk.tokenize import word_tokenize\n",
    "\n",
    "# Replace 'your_file.csv' with the path to your CSV file\n",
    "file_path = 'C:/Users/xx/Downloads/Artikelen_Sanders.csv'\n",
    "\n",
    "# Read the CSV file\n",
    "data = pd.read_csv(file_path,encoding='utf-8')\n",
    "data"
   ]
  },
  {
   "cell_type": "markdown",
   "id": "02718bca",
   "metadata": {},
   "source": [
    "<strong>DATA DESCRIPTION</strong>"
   ]
  },
  {
   "cell_type": "code",
   "execution_count": null,
   "id": "a1b00fc2",
   "metadata": {},
   "outputs": [],
   "source": [
    "data.info()"
   ]
  },
  {
   "cell_type": "code",
   "execution_count": null,
   "id": "9b199445",
   "metadata": {},
   "outputs": [],
   "source": [
    "data.isnull().sum() "
   ]
  },
  {
   "cell_type": "markdown",
   "id": "192a9c7a",
   "metadata": {},
   "source": [
    "<strong>NUMBER OF UNIQUE NEWSPAPERS</strong>"
   ]
  },
  {
   "cell_type": "code",
   "execution_count": null,
   "id": "36fca5e7",
   "metadata": {},
   "outputs": [],
   "source": [
    "\n",
    "# Count and print unique newspaper names\n",
    "unique_papers = data['Krantnaam'].unique()\n",
    "print(\"Number of unique papers:\", len(unique_papers))\n",
    "print(\"Names of papers:\", unique_papers)"
   ]
  },
  {
   "cell_type": "markdown",
   "id": "932acab7",
   "metadata": {},
   "source": [
    "<strong>DISTRIBUTION OF 'LANDELIJK' AND 'REGIONAAL/LOKAAL' NEWSPAPERS (NUMBER OF NEWSPAPERS PER CATEGORY)</strong>"
   ]
  },
  {
   "cell_type": "code",
   "execution_count": null,
   "id": "4149f156",
   "metadata": {},
   "outputs": [],
   "source": [
    "import pandas as pd\n",
    "\n",
    "\n",
    "# Filter the DataFrame for unique 'Krantnaam' under each 'verspreidingsgebied' category\n",
    "unique_landelijk_newspapers = data[data['verspreidingsgebied'] == 'Landelijk']['Krantnaam'].nunique()\n",
    "unique_regionaal_lokaal_newspapers = data[data['verspreidingsgebied'].isin(['Regionaal/lokaal'])]['Krantnaam'].nunique()\n",
    "\n",
    "print(\"Total number of unique 'Landelijk' newspapers:\", unique_landelijk_newspapers)\n",
    "print(\"Total number of unique 'Regionaal/Lokaal' newspapers:\", unique_regionaal_lokaal_newspapers)\n"
   ]
  },
  {
   "cell_type": "markdown",
   "id": "6bf96118",
   "metadata": {},
   "source": [
    "<strong>NUMBER OF ARTICLES PUBLISHED PER NEWSPAPER</strong>"
   ]
  },
  {
   "cell_type": "code",
   "execution_count": null,
   "id": "0bd75330",
   "metadata": {},
   "outputs": [],
   "source": [
    "import pandas as pd\n",
    "\n",
    "# Assuming 'data' is your DataFrame with columns 'Krantnaam' and 'Titel'\n",
    "\n",
    "# Count the total number of articles per newspaper\n",
    "articles_per_newspaper = data.groupby('Krantnaam')['Titel'].count().reset_index(name='Total Articles')\n",
    "\n",
    "# Rename columns for clarity\n",
    "articles_per_newspaper.columns = ['Newspaper', 'Number of Articles']\n",
    "\n",
    "# Print the result\n",
    "print(articles_per_newspaper)"
   ]
  },
  {
   "cell_type": "markdown",
   "id": "e4043b7c",
   "metadata": {},
   "source": [
    "<strong>NUMBER OF NEWSPAPERS PER DECADE</strong>"
   ]
  },
  {
   "cell_type": "code",
   "execution_count": null,
   "id": "b9837008",
   "metadata": {},
   "outputs": [],
   "source": [
    "# Convert 'datum' to datetime\n",
    "data['Datum'] = pd.to_datetime(data['Datum'])\n",
    "\n",
    "# Extract decade\n",
    "data['decade'] = data['Datum'].dt.year // 10 * 10\n",
    "\n",
    "# Count papers in each decade\n",
    "decade_counts = data[data['decade'].isin([1960, 1970])].groupby('decade')['Krantnaam'].nunique()\n",
    "print(\"Number of papers published in the 1960s and 1970s:\\n\", decade_counts)\n"
   ]
  },
  {
   "cell_type": "markdown",
   "id": "8c69278b",
   "metadata": {},
   "source": [
    "<strong>NUMBER OF ARTICLES PER YEAR</strong>"
   ]
  },
  {
   "cell_type": "code",
   "execution_count": null,
   "id": "e4a642f2",
   "metadata": {},
   "outputs": [],
   "source": [
    "# Extract the year from the 'datum' column\n",
    "data['year'] = data['Datum'].dt.year\n",
    "# Count the number of articles per year\n",
    "articles_per_year = data.groupby('year')['Titel'].count()\n",
    "print(articles_per_year)"
   ]
  },
  {
   "cell_type": "markdown",
   "id": "5fab57a5",
   "metadata": {},
   "source": [
    "<strong>ELIMINATE THE ROW WITH THE ARTICLE FROM 1990</strong>     \n",
    "To clean the dataset we eliminate the only article published in 1990 as we are interested in 1960 and 1970 only"
   ]
  },
  {
   "cell_type": "code",
   "execution_count": null,
   "id": "c0f27fa2",
   "metadata": {},
   "outputs": [],
   "source": [
    "# Extract the year from the 'Datum' column if not already done\n",
    "data['year'] = data['Datum'].dt.year\n",
    "\n",
    "# Eliminate rows where 'year' equals 1990 and update the 'data' DataFrame in place\n",
    "data = data[data['year'] != 1990]\n",
    "\n",
    "# Now 'data' is updated to exclude rows from the year 1990\n",
    "data"
   ]
  },
  {
   "cell_type": "markdown",
   "id": "a0080282",
   "metadata": {},
   "source": [
    "<strong>NUMBER OF NEWSPAPERS PER YEAR</strong>"
   ]
  },
  {
   "cell_type": "code",
   "execution_count": null,
   "id": "4af6ebec",
   "metadata": {},
   "outputs": [],
   "source": [
    "import pandas as pd\n",
    "\n",
    "# Assuming 'data' is your DataFrame with 'Datum', 'Krantnaam'\n",
    "data = data.copy()  # Make a copy to avoid SettingWithCopyWarning\n",
    "data['year'] = pd.to_datetime(data['Datum']).dt.year  # Convert 'Datum' to datetime and extract the year\n",
    "\n",
    "# Count unique newspapers per year\n",
    "papers_per_year = data.groupby('year')['Krantnaam'].nunique().reset_index(name='Number of Newspapers')\n"
   ]
  },
  {
   "cell_type": "markdown",
   "id": "19449286",
   "metadata": {},
   "source": [
    "<strong>NUMBER OF NEWSPAPERS PER YEAR - BAR CHART</strong>"
   ]
  },
  {
   "cell_type": "code",
   "execution_count": null,
   "id": "10e81bb9",
   "metadata": {},
   "outputs": [],
   "source": [
    "import matplotlib.pyplot as plt\n",
    "import seaborn as sns\n",
    "\n",
    "# Set the aesthetic style of the plots\n",
    "sns.set_style(\"whitegrid\")\n",
    "\n",
    "# Create a bar chart\n",
    "plt.figure(figsize=(12, 6))\n",
    "sns.barplot(x='year', y='Number of Newspapers', data=papers_per_year, palette=\"colorblind\")\n",
    "plt.xticks(rotation=45)\n",
    "plt.title('Number of Newspapers per Year (Bar Chart)')\n",
    "plt.xlabel('Year')\n",
    "plt.ylabel('Number of Newspapers')\n",
    "plt.tight_layout()\n",
    "plt.show()\n"
   ]
  },
  {
   "cell_type": "markdown",
   "id": "3243cfec",
   "metadata": {},
   "source": [
    "<strong>NUMBER OF NEWSPAPERS PER YEAR -LINE CHART</strong>"
   ]
  },
  {
   "cell_type": "code",
   "execution_count": null,
   "id": "651403b3",
   "metadata": {},
   "outputs": [],
   "source": [
    "plt.figure(figsize=(12, 6))\n",
    "sns.lineplot(x='year', y='Number of Newspapers', data=papers_per_year, marker='o', color='b', linestyle='-')\n",
    "plt.xticks(rotation=45)\n",
    "plt.title('Number of Newspapers per Year (Line Chart)')\n",
    "plt.xlabel('Year')\n",
    "plt.ylabel('Number of Newspapers')\n",
    "plt.tight_layout()\n",
    "plt.show()"
   ]
  },
  {
   "cell_type": "markdown",
   "id": "92d8e8c2",
   "metadata": {},
   "source": [
    "<strong>NUMBER OF NATIONAL/LOCAL NEWSPAPERS PER YEAR - VISUALIZATION</strong>"
   ]
  },
  {
   "cell_type": "code",
   "execution_count": null,
   "id": "dddd7ecb",
   "metadata": {},
   "outputs": [],
   "source": [
    "import matplotlib.pyplot as plt\n",
    "import seaborn as sns\n",
    "import pandas as pd\n",
    "\n",
    "# Assuming 'df1' has a 'Datum' column in datetime format and 'verspreidingsgebied' indicates if a newspaper is national or regional\n",
    "\n",
    "# Extract the year from the 'Datum' column\n",
    "data = data.copy()  # Make a copy to avoid SettingWithCopyWarning\n",
    "data['Year'] = data['Datum'].dt.year\n",
    "\n",
    "# Calculate the number of national/regional newspapers per year\n",
    "newspapers_per_year = data.groupby(['Year', 'verspreidingsgebied'])['Krantnaam'].nunique().unstack()\n",
    "\n",
    "# Plot\n",
    "plt.figure(figsize=(12, 8))\n",
    "newspapers_per_year.plot(kind='bar', stacked=True)  # Stacked bar plot for clarity\n",
    "plt.xlabel('Year')\n",
    "plt.ylabel('Number of Newspapers')\n",
    "plt.title('Number of National/Regional Newspapers per Year')\n",
    "plt.legend(title='Verspreidingsgebied')\n",
    "plt.xticks(rotation=45)  # Rotate the x-axis labels for better readability\n",
    "plt.tight_layout()  # Adjust layout to make room for the rotated x-axis labels\n",
    "plt.show()\n"
   ]
  },
  {
   "cell_type": "markdown",
   "id": "073e6cc4",
   "metadata": {},
   "source": [
    "<strong>NUMBER OF ARTICLES PER NEWSPAPER - VISUALIZATION - HORIZONTAL</strong>"
   ]
  },
  {
   "cell_type": "code",
   "execution_count": null,
   "id": "520a205e",
   "metadata": {},
   "outputs": [],
   "source": [
    "import matplotlib.pyplot as plt\n",
    "import seaborn as sns\n",
    "import pandas as pd\n",
    "\n",
    "# Assuming 'df1' has a 'Datum' column in datetime format and 'verspreidingsgebied' indicates if a newspaper is national or regional\n",
    "\n",
    "# Extract the year from the 'Datum' column\n",
    "data['Year'] = data['Datum'].dt.year\n",
    "\n",
    "# Calculate the number of national/regional newspapers per year\n",
    "newspapers_per_year = data.groupby(['Year', 'verspreidingsgebied'])['Krantnaam'].nunique().unstack()\n",
    "\n",
    "# Plot\n",
    "plt.figure(figsize=(12, 8))\n",
    "newspapers_per_year.plot(kind='bar', stacked=True)  # Stacked bar plot for clarity\n",
    "plt.xlabel('Year')\n",
    "plt.ylabel('Number of Newspapers')\n",
    "plt.title('Number of National/Regional Newspapers per Year')\n",
    "plt.legend(title='Verspreidingsgebied')\n",
    "plt.xticks(rotation=45)  # Rotate the x-axis labels for better readability\n",
    "plt.tight_layout()  # Adjust layout to make room for the rotated x-axis labels\n",
    "plt.show()\n"
   ]
  },
  {
   "cell_type": "markdown",
   "id": "39d54c28",
   "metadata": {},
   "source": [
    "<strong>NUMBER OF ARTICLES PER NEWSPAPER - VISUALIZATION - VERTICAL</strong>"
   ]
  },
  {
   "cell_type": "code",
   "execution_count": null,
   "id": "e1a9c508",
   "metadata": {},
   "outputs": [],
   "source": [
    "import matplotlib.pyplot as plt\n",
    "import seaborn as sns\n",
    "import pandas as pd\n",
    "\n",
    "# Assuming 'data' is your DataFrame with columns 'Krantnaam' for the newspaper name and 'Titel' for article titles\n",
    "\n",
    "# Calculate the number of articles per newspaper\n",
    "articles_per_newspaper = data.groupby('Krantnaam')['Titel'].nunique()\n",
    "\n",
    "# Plot\n",
    "plt.figure(figsize=(12, 10))  # Adjust figure size as needed for vertical orientation\n",
    "articles_per_newspaper.sort_values(ascending=False).plot(kind='bar')  # Use 'bar' for vertical bars\n",
    "plt.ylabel('Number of Articles')  # Adjust label for vertical orientation\n",
    "plt.xlabel('Newspaper Name')  # Adjust label for vertical orientation\n",
    "plt.title('Number of Articles Published per Newspaper')\n",
    "plt.xticks(rotation=45, ha=\"right\")  # Rotate x-axis labels for better readability\n",
    "plt.tight_layout()  # Adjust layout to ensure the full labels are displayed\n",
    "plt.show()\n"
   ]
  },
  {
   "cell_type": "markdown",
   "id": "512635ed",
   "metadata": {},
   "source": [
    "<strong>NUMBER OF UNIQUE ARTICLES PER NEWSPAPER PER YEAR- VISUALIZATION</strong>"
   ]
  },
  {
   "cell_type": "code",
   "execution_count": null,
   "id": "620798f8",
   "metadata": {},
   "outputs": [],
   "source": [
    "import matplotlib.pyplot as plt\n",
    "import pandas as pd\n",
    "\n",
    "# Assuming 'data' is your DataFrame with 'year', 'Krantnaam', and 'Titel'\n",
    "\n",
    "# Count the number of unique articles per newspaper per year\n",
    "articles_per_newspaper_year = data.groupby(['year', 'Krantnaam'])['Titel'].nunique().unstack(fill_value=0)\n",
    "\n",
    "# Create a larger figure to give more space to the plot\n",
    "fig, ax = plt.subplots(figsize=(15, 10))\n",
    "\n",
    "# Plotting with stacked bars\n",
    "articles_per_newspaper_year.plot(kind='bar', stacked=True, ax=ax)\n",
    "\n",
    "# Setting labels and title with increased font size\n",
    "ax.set_xlabel('Year', fontsize=16)\n",
    "ax.set_ylabel('Number of Unique Articles', fontsize=16)\n",
    "ax.set_title('Number of Unique Articles per Newspaper per Year', fontsize=18)\n",
    "\n",
    "# Increase font size for x and y axis ticks\n",
    "ax.tick_params(axis='x', labelsize=14, rotation=45)\n",
    "ax.tick_params(axis='y', labelsize=14)\n",
    "\n",
    "# Annotating the number of unique articles on each bar\n",
    "for p in ax.patches:\n",
    "    width, height = p.get_width(), p.get_height()\n",
    "    if height > 0:  # Ensures annotation is only added when there's a non-zero count\n",
    "        ax.annotate(f'{int(height)}', (p.get_x() + width/2, p.get_y() + height/2),\n",
    "                    ha='center', va='center', fontsize=10, color='black', rotation=0)\n",
    "\n",
    "# Adjusting the size and location of the legend\n",
    "ax.legend(title='Newspaper', fontsize=12, loc='upper left', bbox_to_anchor=(1, 1))\n",
    "\n",
    "# Adjust layout to not cut off labels or legend\n",
    "plt.subplots_adjust(right=0.8)\n",
    "\n",
    "plt.show()\n"
   ]
  }
 ],
 "metadata": {
  "kernelspec": {
   "display_name": "Python 3 (ipykernel)",
   "language": "python",
   "name": "python3"
  },
  "language_info": {
   "codemirror_mode": {
    "name": "ipython",
    "version": 3
   },
   "file_extension": ".py",
   "mimetype": "text/x-python",
   "name": "python",
   "nbconvert_exporter": "python",
   "pygments_lexer": "ipython3",
   "version": "3.9.17"
  }
 },
 "nbformat": 4,
 "nbformat_minor": 5
}
